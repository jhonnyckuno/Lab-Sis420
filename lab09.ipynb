{
  "cells": [
    {
      "cell_type": "markdown",
      "metadata": {
        "id": "view-in-github",
        "colab_type": "text"
      },
      "source": [
        "<a href=\"https://colab.research.google.com/github/jhonnyckuno/Lab-Sis420/blob/master/lab09.ipynb\" target=\"_parent\"><img src=\"https://colab.research.google.com/assets/colab-badge.svg\" alt=\"Open In Colab\"/></a>"
      ]
    },
    {
      "cell_type": "markdown",
      "metadata": {
        "id": "FMnTLNrwixd8"
      },
      "source": [
        "# Ejercicio de programación Regresión Lineal Multiple"
      ]
    },
    {
      "cell_type": "code",
      "execution_count": null,
      "metadata": {
        "id": "GGF64D8mixd-"
      },
      "outputs": [],
      "source": [
        "# utilizado para manejos de directorios y rutas\n",
        "import os\n",
        "\n",
        "# Computacion vectorial y cientifica para python\n",
        "import numpy as np\n",
        "\n",
        "# Librerias para graficación (trazado de gráficos)\n",
        "from matplotlib import pyplot\n",
        "from mpl_toolkits.mplot3d import Axes3D  # Necesario para graficar superficies 3D\n",
        "\n",
        "# llama a matplotlib a embeber graficas dentro de los cuadernillos\n",
        "%matplotlib inline"
      ]
    },
    {
      "cell_type": "markdown",
      "metadata": {
        "id": "MEoJidm7ixeA"
      },
      "source": [
        "## 2 Regresión lineal con multiples variables\n",
        "\n",
        "Se implementa la regresion lineal multivariable para predecir el precio de las casas. El archivo `Datasets/ex1data2.txt` contiene un conjunto de entrenamiento de precios de casas en Portland, Oregon. La primera columna es el tamaño de la casa en metros cuadrados, la segunda columna es el numero de cuartos, y la tercera columna es el precio de la casa. \n",
        "\n",
        "<a id=\"section4\"></a>\n",
        "### 2.1 Normalización de caracteristicas\n",
        "\n",
        "Al visualizar los datos se puede observar que las caracteristicas tienen diferentes magnitudes, por lo cual se debe transformar cada valor en una escala de valores similares, esto con el fin de que el descenso por el gradiente pueda converger mas rapidamente."
      ]
    },
    {
      "cell_type": "code",
      "execution_count": null,
      "metadata": {
        "colab": {
          "base_uri": "https://localhost:8080/"
        },
        "id": "-NtHZuZoixeA",
        "outputId": "ff6e150f-16ac-45d0-b3c4-a46e6e5dd2f7"
      },
      "outputs": [
        {
          "output_type": "stream",
          "name": "stdout",
          "text": [
            "[[1.000e+00 0.000e+00 8.000e+01 ... 9.600e+01 3.800e+01 1.000e+04]\n",
            " [2.000e+00 4.610e+02 1.110e+02 ... 1.080e+02 7.100e+01 1.000e+04]\n",
            " [3.000e+00 0.000e+00 5.600e+01 ... 3.000e+01 3.300e+01 1.010e+04]\n",
            " ...\n",
            " [1.740e+03 4.150e+02 2.400e+01 ... 3.000e+01 4.000e+01 4.379e+05]\n",
            " [1.741e+03 2.960e+02 2.400e+01 ... 3.000e+01 7.400e+01 4.777e+05]\n",
            " [1.742e+03 1.613e+03 3.000e+01 ... 7.600e+01 3.500e+01 4.780e+05]]\n",
            "*********************************************\n",
            "[ 10000.  10000.  10100. ... 437900. 477700. 478000.]\n"
          ]
        }
      ],
      "source": [
        "# Cargar datos\n",
        "data = np.loadtxt(os.path.join('data_2.csv'), delimiter=',')\n",
        "X,y = data[:, :7], data[:, 6]\n",
        "m = y.size\n",
        "print(X)\n",
        "print('*'*45)\n",
        "print(y)"
      ]
    },
    {
      "cell_type": "code",
      "source": [
        "print(m)"
      ],
      "metadata": {
        "colab": {
          "base_uri": "https://localhost:8080/"
        },
        "id": "hZbW0YSmoEDE",
        "outputId": "7ecb0d64-377a-483a-b5b1-9ad5d4734379"
      },
      "execution_count": null,
      "outputs": [
        {
          "output_type": "stream",
          "name": "stdout",
          "text": [
            "1742\n"
          ]
        }
      ]
    },
    {
      "cell_type": "markdown",
      "metadata": {
        "id": "aidItZrFixeB"
      },
      "source": [
        "La desviación estándar es una forma de medir cuánta variación hay en el rango de valores de una característica en particular (la mayoría de los puntos caeran en un rango de ± 2 en relación a la desviaciones estándar de la media); esta es una alternativa a tomar el rango de valores (max-min). En `numpy`, se puede usar la función `std` para calcular la desviacion estandar. \n",
        "\n",
        "Por ejemplo, la caracteristica`X[:, 0]` contiene todos los valores de $x_1$ (tamaño de las casas) en el conjunto de entrenamiento, entonces `np.std(X[:, 0])` calcula la desviacion estandar de los tamaños de las casas.\n",
        "En el momento en que se llama a la función `featureNormalize`, la columna adicional de unos correspondiente a $ x_0 = 1 $ aún no se ha agregado a $ X $. \n",
        "\n",
        "<div class=\"alert alert-block alert-warning\">\n",
        "**Notas para la implementación:** Cuando se normalize una caracteristica, es importante almacenar los valores usados para la normalización - el valor de la media y el valor de la desviación estandar usado para los calculos. Despues de aprender los parametros del modelo, se deseara predecir los precios de casas que no se han visto antes. Dado un nuevo valor de x (area del living room y el numero de dormitorios), primero se debe normalizar x usando la media y la desviacion estandar que se empleo anteriormente en el conjunto de entrenamiento para entrenar el modelo.\n",
        "</div>\n",
        "<a id=\"featureNormalize\"></a>"
      ]
    },
    {
      "cell_type": "code",
      "execution_count": null,
      "metadata": {
        "id": "ItYnCBRtixeC"
      },
      "outputs": [],
      "source": [
        "def  featureNormalize(X):\n",
        "    X_norm = X.copy()\n",
        "    mu = np.zeros(X.shape[1])\n",
        "    sigma = np.zeros(X.shape[1])\n",
        "\n",
        "    mu = np.mean(X, axis = 0)\n",
        "    sigma = np.std(X, axis = 0)\n",
        "    X_norm = (X - mu) / sigma\n",
        "    \n",
        "    return X_norm, mu, sigma"
      ]
    },
    {
      "cell_type": "code",
      "execution_count": null,
      "metadata": {
        "colab": {
          "base_uri": "https://localhost:8080/"
        },
        "id": "98uxsj3cixeC",
        "outputId": "0e1b53ab-8ff6-4946-ba66-1d660c6849ae"
      },
      "outputs": [
        {
          "output_type": "stream",
          "name": "stdout",
          "text": [
            "[[1.000e+00 0.000e+00 8.000e+01 ... 9.600e+01 3.800e+01 1.000e+04]\n",
            " [2.000e+00 4.610e+02 1.110e+02 ... 1.080e+02 7.100e+01 1.000e+04]\n",
            " [3.000e+00 0.000e+00 5.600e+01 ... 3.000e+01 3.300e+01 1.010e+04]\n",
            " ...\n",
            " [1.740e+03 4.150e+02 2.400e+01 ... 3.000e+01 4.000e+01 4.379e+05]\n",
            " [1.741e+03 2.960e+02 2.400e+01 ... 3.000e+01 7.400e+01 4.777e+05]\n",
            " [1.742e+03 1.613e+03 3.000e+01 ... 7.600e+01 3.500e+01 4.780e+05]]\n",
            "Media calculada: [8.71500000e+02 3.11084788e+03 6.92192882e+01 3.96096441e-02\n",
            " 6.52944891e+01 3.99035591e+01 9.41799082e+04]\n",
            "Desviación estandar calculada: [5.02872002e+02 2.12417899e+04 3.69192204e+01 1.95040304e-01\n",
            " 5.13705720e+01 2.38360719e+01 9.18610685e+04]\n",
            "[[-1.73105680e+00 -1.46449423e-01  2.92008111e-01 ...  5.97725696e-01\n",
            "  -7.98604375e-02 -9.16382855e-01]\n",
            " [-1.72906823e+00 -1.24746920e-01  1.13167915e+00 ...  8.31322473e-01\n",
            "   1.30459587e+00 -9.16382855e-01]\n",
            " [-1.72707965e+00 -1.46449423e-01 -3.58059786e-01 ... -6.87056572e-01\n",
            "  -2.89626544e-01 -9.15294254e-01]\n",
            " ...\n",
            " [ 1.72707965e+00 -1.26912463e-01 -1.22481698e+00 ... -6.87056572e-01\n",
            "   4.04600528e-03  3.74173845e+00]\n",
            " [ 1.72906823e+00 -1.32514627e-01 -1.22481698e+00 ... -6.87056572e-01\n",
            "   1.43045553e+00  4.17500143e+00]\n",
            " [ 1.73105680e+00 -7.05142025e-02 -1.06230001e+00 ...  2.08397736e-01\n",
            "  -2.05720102e-01  4.17826723e+00]]\n"
          ]
        }
      ],
      "source": [
        "# llama featureNormalize con los datos cargados\n",
        "X_norm, mu, sigma = featureNormalize(X)\n",
        "\n",
        "print(X)\n",
        "print('Media calculada:', mu)\n",
        "print('Desviación estandar calculada:', sigma)\n",
        "print(X_norm)"
      ]
    },
    {
      "cell_type": "code",
      "source": [],
      "metadata": {
        "id": "dsYIaXwfpBDF"
      },
      "execution_count": null,
      "outputs": []
    },
    {
      "cell_type": "markdown",
      "metadata": {
        "id": "60-ukRpMixeD"
      },
      "source": [
        "Despues de `featureNormalize` la funcion es provada, se añade el temino de interseccion a `X_norm`:"
      ]
    },
    {
      "cell_type": "code",
      "execution_count": null,
      "metadata": {
        "id": "6d3wMkViixeD"
      },
      "outputs": [],
      "source": [
        "# Añade el termino de interseccion a X\n",
        "# (Columna de unos para X0)\n",
        "X = np.concatenate([np.ones((m, 1)), X_norm], axis=1)"
      ]
    },
    {
      "cell_type": "code",
      "execution_count": null,
      "metadata": {
        "colab": {
          "base_uri": "https://localhost:8080/"
        },
        "id": "AUMhtErHixeD",
        "outputId": "c1bfb9a4-c201-4003-d6ce-6fad3cac24bb"
      },
      "outputs": [
        {
          "output_type": "stream",
          "name": "stdout",
          "text": [
            "[[ 1.00000000e+00 -1.73105680e+00 -1.46449423e-01 ...  5.97725696e-01\n",
            "  -7.98604375e-02 -9.16382855e-01]\n",
            " [ 1.00000000e+00 -1.72906823e+00 -1.24746920e-01 ...  8.31322473e-01\n",
            "   1.30459587e+00 -9.16382855e-01]\n",
            " [ 1.00000000e+00 -1.72707965e+00 -1.46449423e-01 ... -6.87056572e-01\n",
            "  -2.89626544e-01 -9.15294254e-01]\n",
            " ...\n",
            " [ 1.00000000e+00  1.72707965e+00 -1.26912463e-01 ... -6.87056572e-01\n",
            "   4.04600528e-03  3.74173845e+00]\n",
            " [ 1.00000000e+00  1.72906823e+00 -1.32514627e-01 ... -6.87056572e-01\n",
            "   1.43045553e+00  4.17500143e+00]\n",
            " [ 1.00000000e+00  1.73105680e+00 -7.05142025e-02 ...  2.08397736e-01\n",
            "  -2.05720102e-01  4.17826723e+00]]\n"
          ]
        }
      ],
      "source": [
        "print(X)"
      ]
    },
    {
      "cell_type": "markdown",
      "metadata": {
        "id": "EYKmdg1vixeE"
      },
      "source": [
        "<a id=\"section5\"></a>\n",
        "### 2.2 Descenso por el gradiente\n",
        "\n",
        "En el ejemplo anterior se implemento el descenso por el gradiente para un problema de regresion univariable. La unica diferencia es que ahora existe una caracteristica adicional en la matriz $X$. La función de hipótesis y la regla de actualización del descenso del gradiente por lotes permanecen sin cambios.\n",
        "\n",
        "La implementacion de las funciones `computeCostMulti` y `gradientDescentMulti` son similares a la funcion de costo y función de descenso por el gradiente de la regresión lineal multiple es similar al de la regresion lineal multivariable. Es importante garantizar que el codigo soporte cualquier numero de caracteristicas y esten bien vectorizadas.\n",
        "\n",
        "Se puede utilizar `shape`, propiedad de los arrays `numpy`, para identificar cuantas caracteristicas estan consideradas en el dataset.\n",
        "\n",
        "<div class=\"alert alert-block alert-warning\">\n",
        "**Nota de implementación:** En el caso de multivariables, la función de costo puede se escrita considerando la forma vectorizada de la siguiente manera:\n",
        "\n",
        "$$ J(\\theta) = \\frac{1}{2m}(X\\theta - \\vec{y})^T(X\\theta - \\vec{y}) $$\n",
        "\n",
        "donde:\n",
        "\n",
        "$$ X = \\begin{pmatrix}\n",
        "          - (x^{(1)})^T - \\\\\n",
        "          - (x^{(2)})^T - \\\\\n",
        "          \\vdots \\\\\n",
        "          - (x^{(m)})^T - \\\\ \\\\\n",
        "        \\end{pmatrix} \\qquad \\mathbf{y} = \\begin{bmatrix} y^{(1)} \\\\ y^{(2)} \\\\ \\vdots \\\\ y^{(m)} \\\\\\end{bmatrix}$$\n",
        "\n",
        "La version vectorizada es eficiente cuando se trabaja con herramientas de calculo numericos computacional como `numpy`. \n",
        "</div>\n",
        "\n",
        "<a id=\"computeCostMulti\"></a>"
      ]
    },
    {
      "cell_type": "code",
      "execution_count": null,
      "metadata": {
        "id": "Z8Vfnu1KixeF"
      },
      "outputs": [],
      "source": [
        "def computeCostMulti(X, y, theta):\n",
        "    # Inicializa algunos valores utiles\n",
        "    m = y.shape[0] # numero de ejemplos de entrenamiento\n",
        "    \n",
        "    J = 0\n",
        "    \n",
        "    h = np.dot(X, theta)\n",
        "    \n",
        "    J = (1/(2 * m)) * np.sum(np.square(np.dot(X, theta) - y))\n",
        "    \n",
        "    return J\n"
      ]
    },
    {
      "cell_type": "code",
      "execution_count": null,
      "metadata": {
        "id": "Z2pHrF-zixeF"
      },
      "outputs": [],
      "source": [
        "def gradientDescentMulti(X, y, theta, alpha, num_iters):\n",
        "    \n",
        "    # Inicializa algunos valores \n",
        "    m = y.shape[0] # numero de ejemplos de entrenamiento\n",
        "    \n",
        "    # realiza una copia de theta, el cual será acutalizada por el descenso por el gradiente\n",
        "    theta = theta.copy()\n",
        "    \n",
        "    J_history = []\n",
        "    \n",
        "    for i in range(num_iters):\n",
        "        theta = theta - (alpha / m) * (np.dot(X, theta) - y).dot(X)\n",
        "        J_history.append(computeCostMulti(X, y, theta))\n",
        "    \n",
        "    return theta, J_history"
      ]
    },
    {
      "cell_type": "markdown",
      "metadata": {
        "id": "4Y6Mnr1OixeF"
      },
      "source": [
        "#### 3.2.1 Seleccionando coheficientes de aprendizaje\n"
      ]
    },
    {
      "cell_type": "code",
      "execution_count": null,
      "metadata": {
        "colab": {
          "base_uri": "https://localhost:8080/",
          "height": 342
        },
        "id": "TtB6P_D8ixeG",
        "outputId": "f14e42a8-1d77-4e47-f5de-3c21d17eba74"
      },
      "outputs": [
        {
          "output_type": "stream",
          "name": "stdout",
          "text": [
            "theta calculado por el descenso por el gradiente: [ 9.41799082e+04  1.14451342e-01 -8.41082519e-05 -7.93172950e-03\n",
            "  1.09458713e-04  1.76421319e-03 -1.10249002e-03  9.18609554e+04]\n",
            "El precio USD de maquinaria (usando el descenso por el gradiente): 10000\n"
          ]
        },
        {
          "output_type": "display_data",
          "data": {
            "text/plain": [
              "<Figure size 432x288 with 1 Axes>"
            ],
            "image/png": "[encoded data removed]"
          },
          "metadata": {
            "needs_background": "light"
          }
        }
      ],
      "source": [
        "# Elegir algun valor para alpha (probar varias alternativas)\n",
        "alpha = 0.01\n",
        "num_iters = 10000\n",
        "# inicializa theta y ejecuta el descenso por el gradiente\n",
        "theta = np.zeros(8)\n",
        "theta, J_history = gradientDescentMulti(X, y, theta, alpha, num_iters)\n",
        "\n",
        "# Grafica la convergencia del costo\n",
        "pyplot.plot(np.arange(len(J_history)), J_history, lw=2)\n",
        "pyplot.xlabel('Numero de iteraciones')\n",
        "pyplot.ylabel('Costo J')\n",
        "\n",
        "# Muestra los resultados del descenso por el gradiente\n",
        "print('theta calculado por el descenso por el gradiente: {:s}'.format(str(theta)))\n",
        "\n",
        "# Estimar el precio para una mquina de , \n",
        "X_array = [1,1,0,80,0,96,38,10000]\n",
        "X_array[1:8] = (X_array[1:8] - mu)/sigma\n",
        "price = np.dot(X_array, theta)   # Se debe cambiar esto\n",
        "\n",
        "print('El precio USD de maquinaria (usando el descenso por el gradiente): {:.0f}'.format(price))"
      ]
    },
    {
      "cell_type": "code",
      "execution_count": null,
      "metadata": {
        "id": "lPn4NezUixeG"
      },
      "outputs": [],
      "source": [
        "X_array = [1,1,0,80,0,96,38,10000]\n",
        "X_array[1:8] = (X_array[1:8] - mu) / sigma"
      ]
    },
    {
      "cell_type": "code",
      "execution_count": null,
      "metadata": {
        "colab": {
          "base_uri": "https://localhost:8080/"
        },
        "id": "Y1zgpbf9ixeG",
        "outputId": "0fae07f0-1058-4b2c-ce7e-2ce5e84d53ad"
      },
      "outputs": [
        {
          "output_type": "execute_result",
          "data": {
            "text/plain": [
              "[-1.7310568041541161,\n",
              " -0.1464494228886422,\n",
              " 0.29200811136864746,\n",
              " -0.2030844049967865,\n",
              " 0.5977256964674076,\n",
              " -0.07986043745681728,\n",
              " -0.9163828546604753]"
            ]
          },
          "metadata": {},
          "execution_count": 263
        }
      ],
      "source": [
        "X_array[1:8]"
      ]
    },
    {
      "cell_type": "markdown",
      "metadata": {
        "id": "gBYG2VZGixeH"
      },
      "source": [
        "<a id=\"section7\"></a>\n",
        "### 2.3 Ecuacion de la Normal\n",
        "\n",
        "Una manera de calcular rapidamente el modelo de una regresion lineal es:\n",
        "\n",
        "$$ \\theta = \\left( X^T X\\right)^{-1} X^T\\vec{y}$$\n",
        "\n",
        "Utilizando esta formula no requiere que se escale ninguna caracteristica, y se obtendra una solucion exacta con un solo calculo: no hay “bucles de convergencia” como en el descenso por el gradiente. \n",
        "\n",
        "Primero se recargan los datos para garantizar que las variables no esten modificadas. Recordar que no es necesario escalar las caracteristicas, se debe agregar la columna de unos a la matriz $X$ para tener el termino de intersección($\\theta_0$). "
      ]
    },
    {
      "cell_type": "code",
      "execution_count": null,
      "metadata": {
        "id": "8Gn2aeGUixeH"
      },
      "outputs": [],
      "source": [
        "# Cargar datos\n",
        "data = np.loadtxt(os.path.join('data_2.csv'), delimiter=',')\n",
        "X,y = data[:, :7], data[:, 6]\n",
        "m = y.size\n",
        "X = np.concatenate([np.ones((m, 1)), X], axis=1)"
      ]
    },
    {
      "cell_type": "code",
      "execution_count": null,
      "metadata": {
        "id": "Ggl3eon1ixeH"
      },
      "outputs": [],
      "source": [
        "def normalEqn(X, y):\n",
        "  \n",
        "    theta = np.zeros(X.shape[1])\n",
        "    \n",
        "    theta = np.dot(np.dot(np.linalg.inv(np.dot(X.T,X)),X.T),y)\n",
        "    \n",
        "    return theta"
      ]
    },
    {
      "cell_type": "code",
      "execution_count": null,
      "metadata": {
        "id": "PnGJwc7wixeH",
        "outputId": "840ab42a-e9c4-4131-ccc6-1f38134878b1",
        "colab": {
          "base_uri": "https://localhost:8080/"
        }
      },
      "outputs": [
        {
          "output_type": "stream",
          "name": "stdout",
          "text": [
            "Theta calculado a partir de la ecuación de la normal: [ 1.42631507e-09 -4.26325641e-13 -5.15212872e-16 -2.66986433e-12\n",
            " -2.42107490e-09 -4.94093655e-12 -7.53885843e-12  1.00000000e+00]\n",
            "Precio predecido para una cada maquinaria segun su uuid, metro horas, categoria,es nuevo(estado).. y año (usando la ecuación de la normal): $10000\n"
          ]
        }
      ],
      "source": [
        "# Calcula los parametros con la ecuación de la normal\n",
        "theta = normalEqn(X, y);\n",
        "\n",
        "# Muestra los resultados optenidos a partir de la aplicación de la ecuación de la normal\n",
        "print('Theta calculado a partir de la ecuación de la normal: {:s}'.format(str(theta)));\n",
        "\n",
        "# Estimar el precio para una casa de superficie de 1650 sq-ft y tres dormitorios\n",
        "\n",
        "X_array = [1,1,0,80,0,96,38,10000]\n",
        "price = np.dot(X_array, theta) \n",
        "\n",
        "print('Precio predecido para una cada maquinaria segun su uuid, metro horas, categoria,es nuevo(estado).. y año (usando la ecuación de la normal): ${:.0f}'.format(price))"
      ]
    }
  ],
  "metadata": {
    "kernelspec": {
      "display_name": "Python 3",
      "language": "python",
      "name": "python3"
    },
    "language_info": {
      "codemirror_mode": {
        "name": "ipython",
        "version": 3
      },
      "file_extension": ".py",
      "mimetype": "text/x-python",
      "name": "python",
      "nbconvert_exporter": "python",
      "pygments_lexer": "ipython3",
      "version": "3.8.3"
    },
    "colab": {
      "provenance": [],
      "include_colab_link": true
    }
  },
  "nbformat": 4,
  "nbformat_minor": 0
}